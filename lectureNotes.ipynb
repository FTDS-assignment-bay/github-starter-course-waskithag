{
 "cells": [
  {
   "cell_type": "markdown",
   "metadata": {},
   "source": [
    "# How to push an assignment"
   ]
  },
  {
   "cell_type": "markdown",
   "metadata": {},
   "source": [
    "1. `git clone <link ssh key>` -> cloning repo;\n",
    "2. `cd <local repo path>` -> change directory to local repo;\n",
    "3. Move any file that will be uploaded/push or directly create the file in the local repo -- if push have ever done and there is an update, do from step no.4;\n",
    "4. `git status` -> to check which file will be pushed (should be red in color);\n",
    "5. `git add .` -> adding files(no.4) to stage mode, dot symbol(.) indicates all file will be added to stage mode. If only specific file want to be added use `git add <file name>`;\n",
    "6. `git status` -> make sure files have been added to stage mode and ready to be pushed (should be green in color);\n",
    "7. `git commit --m \"<documentation message>\"` -> for version documentation, change according to what updated/changed;\n",
    "8. `git push` -> to push to the classroom repo;\n",
    "9. Make sure the files is updated in the classroom repo according to local repo;\n",
    "10. We can exclude specific file with `git ignore` by creating new file named `.gitignore` then write the file name there.\n",
    "\n",
    "### ***Extras***\n",
    "11. Use `git checkout <code sha(version)>` to version check in local\n"
   ]
  }
 ],
 "metadata": {
  "interpreter": {
   "hash": "134c57162807b67f05f839bfaa2f22f0a7be278a14124fe4b24cb83c756f7f9e"
  },
  "kernelspec": {
   "display_name": "Python 3.8.8 ('base')",
   "language": "python",
   "name": "python3"
  },
  "language_info": {
   "name": "python",
   "version": "3.8.8"
  },
  "orig_nbformat": 4
 },
 "nbformat": 4,
 "nbformat_minor": 2
}
